{
 "cells": [
  {
   "cell_type": "markdown",
   "id": "4377f23d",
   "metadata": {},
   "source": [
    "Importing Data"
   ]
  },
  {
   "cell_type": "code",
   "execution_count": 509,
   "id": "82a054c5",
   "metadata": {},
   "outputs": [],
   "source": [
    "import matplotlib.pyplot as plt\n",
    "import numpy as np\n",
    "import pandas as pd\n",
    "import scipy.stats as stats\n",
    "\n",
    "def safelog(x):\n",
    "    return(np.log(x + 1e-300))"
   ]
  },
  {
   "cell_type": "code",
   "execution_count": 510,
   "id": "a7d8862a",
   "metadata": {},
   "outputs": [],
   "source": [
    "# read data into memory\n",
    "data_set = pd.read_csv(\"./titanic_data/train.csv\")\n",
    "test_data = pd.read_csv(\"./titanic_data/test.csv\")\n",
    "train_data = data_set.copy()\n",
    "test_data = test_data.copy()"
   ]
  },
  {
   "cell_type": "code",
   "execution_count": 511,
   "id": "35bb4b9f",
   "metadata": {},
   "outputs": [
    {
     "name": "stdout",
     "output_type": "stream",
     "text": [
      "<class 'pandas.core.frame.DataFrame'>\n",
      "RangeIndex: 891 entries, 0 to 890\n",
      "Data columns (total 12 columns):\n",
      " #   Column       Non-Null Count  Dtype  \n",
      "---  ------       --------------  -----  \n",
      " 0   PassengerId  891 non-null    int64  \n",
      " 1   Survived     891 non-null    int64  \n",
      " 2   Pclass       891 non-null    int64  \n",
      " 3   Name         891 non-null    object \n",
      " 4   Sex          891 non-null    object \n",
      " 5   Age          714 non-null    float64\n",
      " 6   SibSp        891 non-null    int64  \n",
      " 7   Parch        891 non-null    int64  \n",
      " 8   Ticket       891 non-null    object \n",
      " 9   Fare         891 non-null    float64\n",
      " 10  Cabin        204 non-null    object \n",
      " 11  Embarked     889 non-null    object \n",
      "dtypes: float64(2), int64(5), object(5)\n",
      "memory usage: 83.7+ KB\n"
     ]
    }
   ],
   "source": [
    "train_data.info()\n",
    "# Some problems with Age, Cabin, and Embarked"
   ]
  },
  {
   "cell_type": "code",
   "execution_count": 512,
   "id": "36f86f40",
   "metadata": {},
   "outputs": [
    {
     "data": {
      "text/html": [
       "<div>\n",
       "<style scoped>\n",
       "    .dataframe tbody tr th:only-of-type {\n",
       "        vertical-align: middle;\n",
       "    }\n",
       "\n",
       "    .dataframe tbody tr th {\n",
       "        vertical-align: top;\n",
       "    }\n",
       "\n",
       "    .dataframe thead th {\n",
       "        text-align: right;\n",
       "    }\n",
       "</style>\n",
       "<table border=\"1\" class=\"dataframe\">\n",
       "  <thead>\n",
       "    <tr style=\"text-align: right;\">\n",
       "      <th></th>\n",
       "      <th>Name</th>\n",
       "      <th>Sex</th>\n",
       "      <th>Ticket</th>\n",
       "      <th>Cabin</th>\n",
       "      <th>Embarked</th>\n",
       "    </tr>\n",
       "  </thead>\n",
       "  <tbody>\n",
       "    <tr>\n",
       "      <th>count</th>\n",
       "      <td>891</td>\n",
       "      <td>891</td>\n",
       "      <td>891</td>\n",
       "      <td>204</td>\n",
       "      <td>889</td>\n",
       "    </tr>\n",
       "    <tr>\n",
       "      <th>unique</th>\n",
       "      <td>891</td>\n",
       "      <td>2</td>\n",
       "      <td>681</td>\n",
       "      <td>147</td>\n",
       "      <td>3</td>\n",
       "    </tr>\n",
       "    <tr>\n",
       "      <th>top</th>\n",
       "      <td>Braund, Mr. Owen Harris</td>\n",
       "      <td>male</td>\n",
       "      <td>347082</td>\n",
       "      <td>B96 B98</td>\n",
       "      <td>S</td>\n",
       "    </tr>\n",
       "    <tr>\n",
       "      <th>freq</th>\n",
       "      <td>1</td>\n",
       "      <td>577</td>\n",
       "      <td>7</td>\n",
       "      <td>4</td>\n",
       "      <td>644</td>\n",
       "    </tr>\n",
       "  </tbody>\n",
       "</table>\n",
       "</div>"
      ],
      "text/plain": [
       "                           Name   Sex  Ticket    Cabin Embarked\n",
       "count                       891   891     891      204      889\n",
       "unique                      891     2     681      147        3\n",
       "top     Braund, Mr. Owen Harris  male  347082  B96 B98        S\n",
       "freq                          1   577       7        4      644"
      ]
     },
     "execution_count": 512,
     "metadata": {},
     "output_type": "execute_result"
    }
   ],
   "source": [
    "train_data.describe(include='O')"
   ]
  },
  {
   "cell_type": "code",
   "execution_count": 513,
   "id": "28a71758",
   "metadata": {},
   "outputs": [
    {
     "name": "stderr",
     "output_type": "stream",
     "text": [
      "C:\\Users\\babll\\AppData\\Local\\Temp\\ipykernel_12428\\1849631878.py:1: FutureWarning: A value is trying to be set on a copy of a DataFrame or Series through chained assignment using an inplace method.\n",
      "The behavior will change in pandas 3.0. This inplace method will never work because the intermediate object on which we are setting values always behaves as a copy.\n",
      "\n",
      "For example, when doing 'df[col].method(value, inplace=True)', try using 'df.method({col: value}, inplace=True)' or df[col] = df[col].method(value) instead, to perform the operation inplace on the original object.\n",
      "\n",
      "\n",
      "  train_data['Age'].fillna(train_data['Age'].mean(), inplace=True)\n",
      "C:\\Users\\babll\\AppData\\Local\\Temp\\ipykernel_12428\\1849631878.py:2: FutureWarning: A value is trying to be set on a copy of a DataFrame or Series through chained assignment using an inplace method.\n",
      "The behavior will change in pandas 3.0. This inplace method will never work because the intermediate object on which we are setting values always behaves as a copy.\n",
      "\n",
      "For example, when doing 'df[col].method(value, inplace=True)', try using 'df.method({col: value}, inplace=True)' or df[col] = df[col].method(value) instead, to perform the operation inplace on the original object.\n",
      "\n",
      "\n",
      "  test_data['Age'].fillna(test_data['Age'].mean(), inplace=True)\n"
     ]
    }
   ],
   "source": [
    "train_data['Age'].fillna(train_data['Age'].mean(), inplace=True)\n",
    "test_data['Age'].fillna(test_data['Age'].mean(), inplace=True)"
   ]
  },
  {
   "cell_type": "code",
   "execution_count": 514,
   "id": "22438317",
   "metadata": {},
   "outputs": [
    {
     "name": "stderr",
     "output_type": "stream",
     "text": [
      "C:\\Users\\babll\\AppData\\Local\\Temp\\ipykernel_12428\\3354605890.py:3: FutureWarning: A value is trying to be set on a copy of a DataFrame or Series through chained assignment using an inplace method.\n",
      "The behavior will change in pandas 3.0. This inplace method will never work because the intermediate object on which we are setting values always behaves as a copy.\n",
      "\n",
      "For example, when doing 'df[col].method(value, inplace=True)', try using 'df.method({col: value}, inplace=True)' or df[col] = df[col].method(value) instead, to perform the operation inplace on the original object.\n",
      "\n",
      "\n",
      "  train_data['Sex'].replace('male', 0, inplace=True)\n",
      "C:\\Users\\babll\\AppData\\Local\\Temp\\ipykernel_12428\\3354605890.py:4: FutureWarning: A value is trying to be set on a copy of a DataFrame or Series through chained assignment using an inplace method.\n",
      "The behavior will change in pandas 3.0. This inplace method will never work because the intermediate object on which we are setting values always behaves as a copy.\n",
      "\n",
      "For example, when doing 'df[col].method(value, inplace=True)', try using 'df.method({col: value}, inplace=True)' or df[col] = df[col].method(value) instead, to perform the operation inplace on the original object.\n",
      "\n",
      "\n",
      "  train_data['Sex'].replace(\"female\", 1, inplace=True)\n",
      "C:\\Users\\babll\\AppData\\Local\\Temp\\ipykernel_12428\\3354605890.py:4: FutureWarning: Downcasting behavior in `replace` is deprecated and will be removed in a future version. To retain the old behavior, explicitly call `result.infer_objects(copy=False)`. To opt-in to the future behavior, set `pd.set_option('future.no_silent_downcasting', True)`\n",
      "  train_data['Sex'].replace(\"female\", 1, inplace=True)\n",
      "C:\\Users\\babll\\AppData\\Local\\Temp\\ipykernel_12428\\3354605890.py:6: FutureWarning: A value is trying to be set on a copy of a DataFrame or Series through chained assignment using an inplace method.\n",
      "The behavior will change in pandas 3.0. This inplace method will never work because the intermediate object on which we are setting values always behaves as a copy.\n",
      "\n",
      "For example, when doing 'df[col].method(value, inplace=True)', try using 'df.method({col: value}, inplace=True)' or df[col] = df[col].method(value) instead, to perform the operation inplace on the original object.\n",
      "\n",
      "\n",
      "  test_data['Sex'].replace('male', 0, inplace=True)\n",
      "C:\\Users\\babll\\AppData\\Local\\Temp\\ipykernel_12428\\3354605890.py:7: FutureWarning: A value is trying to be set on a copy of a DataFrame or Series through chained assignment using an inplace method.\n",
      "The behavior will change in pandas 3.0. This inplace method will never work because the intermediate object on which we are setting values always behaves as a copy.\n",
      "\n",
      "For example, when doing 'df[col].method(value, inplace=True)', try using 'df.method({col: value}, inplace=True)' or df[col] = df[col].method(value) instead, to perform the operation inplace on the original object.\n",
      "\n",
      "\n",
      "  test_data['Sex'].replace(\"female\", 1, inplace=True)\n",
      "C:\\Users\\babll\\AppData\\Local\\Temp\\ipykernel_12428\\3354605890.py:7: FutureWarning: Downcasting behavior in `replace` is deprecated and will be removed in a future version. To retain the old behavior, explicitly call `result.infer_objects(copy=False)`. To opt-in to the future behavior, set `pd.set_option('future.no_silent_downcasting', True)`\n",
      "  test_data['Sex'].replace(\"female\", 1, inplace=True)\n"
     ]
    }
   ],
   "source": [
    "# transform the string data into numbers\n",
    "# male = 0, female = 1 \n",
    "train_data['Sex'].replace('male', 0, inplace=True)\n",
    "train_data['Sex'].replace(\"female\", 1, inplace=True)\n",
    "\n",
    "test_data['Sex'].replace('male', 0, inplace=True)\n",
    "test_data['Sex'].replace(\"female\", 1, inplace=True)\n"
   ]
  },
  {
   "cell_type": "code",
   "execution_count": 515,
   "id": "8e6e0669",
   "metadata": {},
   "outputs": [],
   "source": [
    "col = 'Survived'\n",
    "train_data = train_data[[c for c in train_data.columns if c != col] + [col]]"
   ]
  },
  {
   "cell_type": "code",
   "execution_count": 516,
   "id": "bc9ad832",
   "metadata": {},
   "outputs": [],
   "source": [
    "train_data.drop(\"Name\", axis=1, inplace=True)\n",
    "test_data.drop(\"Name\", axis=1, inplace=True)\n",
    "\n",
    "train_data.drop(\"Cabin\", axis=1, inplace=True)\n",
    "test_data.drop(\"Cabin\", axis=1, inplace=True)\n",
    "\n",
    "train_data.drop(\"Ticket\", axis=1, inplace=True)\n",
    "test_data.drop(\"Ticket\", axis=1, inplace=True)\n"
   ]
  },
  {
   "cell_type": "code",
   "execution_count": 517,
   "id": "477c74ac",
   "metadata": {},
   "outputs": [
    {
     "name": "stderr",
     "output_type": "stream",
     "text": [
      "C:\\Users\\babll\\AppData\\Local\\Temp\\ipykernel_12428\\2760109133.py:6: FutureWarning: A value is trying to be set on a copy of a DataFrame or Series through chained assignment using an inplace method.\n",
      "The behavior will change in pandas 3.0. This inplace method will never work because the intermediate object on which we are setting values always behaves as a copy.\n",
      "\n",
      "For example, when doing 'df[col].method(value, inplace=True)', try using 'df.method({col: value}, inplace=True)' or df[col] = df[col].method(value) instead, to perform the operation inplace on the original object.\n",
      "\n",
      "\n",
      "  train_data['Embarked'].replace(embarked_map, inplace=True)\n",
      "C:\\Users\\babll\\AppData\\Local\\Temp\\ipykernel_12428\\2760109133.py:6: FutureWarning: Downcasting behavior in `replace` is deprecated and will be removed in a future version. To retain the old behavior, explicitly call `result.infer_objects(copy=False)`. To opt-in to the future behavior, set `pd.set_option('future.no_silent_downcasting', True)`\n",
      "  train_data['Embarked'].replace(embarked_map, inplace=True)\n",
      "C:\\Users\\babll\\AppData\\Local\\Temp\\ipykernel_12428\\2760109133.py:7: FutureWarning: A value is trying to be set on a copy of a DataFrame or Series through chained assignment using an inplace method.\n",
      "The behavior will change in pandas 3.0. This inplace method will never work because the intermediate object on which we are setting values always behaves as a copy.\n",
      "\n",
      "For example, when doing 'df[col].method(value, inplace=True)', try using 'df.method({col: value}, inplace=True)' or df[col] = df[col].method(value) instead, to perform the operation inplace on the original object.\n",
      "\n",
      "\n",
      "  test_data['Embarked'].replace(embarked_map, inplace=True)\n",
      "C:\\Users\\babll\\AppData\\Local\\Temp\\ipykernel_12428\\2760109133.py:7: FutureWarning: Downcasting behavior in `replace` is deprecated and will be removed in a future version. To retain the old behavior, explicitly call `result.infer_objects(copy=False)`. To opt-in to the future behavior, set `pd.set_option('future.no_silent_downcasting', True)`\n",
      "  test_data['Embarked'].replace(embarked_map, inplace=True)\n"
     ]
    }
   ],
   "source": [
    "embarked_map = {\n",
    "    'C': 0,\n",
    "    'Q': 1,\n",
    "    'S': 2\n",
    "}\n",
    "train_data['Embarked'].replace(embarked_map, inplace=True)\n",
    "test_data['Embarked'].replace(embarked_map, inplace=True)\n"
   ]
  },
  {
   "cell_type": "code",
   "execution_count": 518,
   "id": "1e110599",
   "metadata": {},
   "outputs": [],
   "source": [
    "train_data[\"Age\"] = train_data[\"Age\"].astype(float, copy=False)\n",
    "test_data[\"Age\"] = test_data[\"Age\"].astype(float, copy=False)\n",
    "train_data = train_data.round(2)\n",
    "test_data = test_data.round(2)\n",
    "\n"
   ]
  },
  {
   "cell_type": "code",
   "execution_count": 519,
   "id": "19c880b1",
   "metadata": {},
   "outputs": [],
   "source": [
    "labels_df = pd.read_csv(\"./titanic_data/gender_submission.csv\")\n",
    "test_data[\"Survived\"] = labels_df[\"Survived\"]\n",
    "\n"
   ]
  },
  {
   "cell_type": "code",
   "execution_count": 520,
   "id": "eeeea9c7",
   "metadata": {},
   "outputs": [
    {
     "name": "stderr",
     "output_type": "stream",
     "text": [
      "C:\\Users\\babll\\AppData\\Local\\Temp\\ipykernel_12428\\1288983014.py:1: FutureWarning: A value is trying to be set on a copy of a DataFrame or Series through chained assignment using an inplace method.\n",
      "The behavior will change in pandas 3.0. This inplace method will never work because the intermediate object on which we are setting values always behaves as a copy.\n",
      "\n",
      "For example, when doing 'df[col].method(value, inplace=True)', try using 'df.method({col: value}, inplace=True)' or df[col] = df[col].method(value) instead, to perform the operation inplace on the original object.\n",
      "\n",
      "\n",
      "  train_data[\"Fare\"].fillna(train_data[\"Fare\"].mean(), inplace=True)\n",
      "C:\\Users\\babll\\AppData\\Local\\Temp\\ipykernel_12428\\1288983014.py:2: FutureWarning: A value is trying to be set on a copy of a DataFrame or Series through chained assignment using an inplace method.\n",
      "The behavior will change in pandas 3.0. This inplace method will never work because the intermediate object on which we are setting values always behaves as a copy.\n",
      "\n",
      "For example, when doing 'df[col].method(value, inplace=True)', try using 'df.method({col: value}, inplace=True)' or df[col] = df[col].method(value) instead, to perform the operation inplace on the original object.\n",
      "\n",
      "\n",
      "  test_data[\"Fare\"].fillna(test_data[\"Fare\"].mean(), inplace=True)\n",
      "C:\\Users\\babll\\AppData\\Local\\Temp\\ipykernel_12428\\1288983014.py:4: FutureWarning: A value is trying to be set on a copy of a DataFrame or Series through chained assignment using an inplace method.\n",
      "The behavior will change in pandas 3.0. This inplace method will never work because the intermediate object on which we are setting values always behaves as a copy.\n",
      "\n",
      "For example, when doing 'df[col].method(value, inplace=True)', try using 'df.method({col: value}, inplace=True)' or df[col] = df[col].method(value) instead, to perform the operation inplace on the original object.\n",
      "\n",
      "\n",
      "  train_data[\"Embarked\"].fillna(train_data[\"Embarked\"].median(), inplace=True)\n"
     ]
    }
   ],
   "source": [
    "train_data[\"Fare\"].fillna(train_data[\"Fare\"].mean(), inplace=True)\n",
    "test_data[\"Fare\"].fillna(test_data[\"Fare\"].mean(), inplace=True)\n",
    "\n",
    "train_data[\"Embarked\"].fillna(train_data[\"Embarked\"].median(), inplace=True)\n",
    "\n"
   ]
  },
  {
   "cell_type": "code",
   "execution_count": 521,
   "id": "02cfaa8d",
   "metadata": {},
   "outputs": [
    {
     "data": {
      "text/plain": [
       "(418,)"
      ]
     },
     "execution_count": 521,
     "metadata": {},
     "output_type": "execute_result"
    }
   ],
   "source": [
    "from sklearn.model_selection import train_test_split\n",
    "\n",
    "# Splitting the data into training and testing sets\n",
    "x_train = train_data.drop([\"PassengerId\",\"Survived\"], axis=1).values\n",
    "y_train = train_data[\"Survived\"].values\n",
    "x_test = test_data.drop([\"PassengerId\",\"Survived\"], axis=1).values\n",
    "y_test = test_data[\"Survived\"].values\n",
    "\n",
    "\n",
    "from sklearn.preprocessing import MinMaxScaler\n",
    "scaler = MinMaxScaler()\n",
    "x_train = scaler.fit_transform(x_train)\n",
    "x_test = scaler.transform(x_test)\n",
    "\n",
    "y_test.shape\n",
    "\n"
   ]
  },
  {
   "cell_type": "markdown",
   "id": "472e4848",
   "metadata": {},
   "source": [
    "## Sigmoid Function"
   ]
  },
  {
   "cell_type": "markdown",
   "id": "f9147b2e",
   "metadata": {},
   "source": [
    "$\\textrm{sigmoid}(\\boldsymbol{w}^{\\top} \\boldsymbol{x} + w_{0}) = \\dfrac{1}{1 + \\exp\\left[-(\\boldsymbol{w}^{\\top} \\boldsymbol{x} + w_{0})\\right]}$\n"
   ]
  },
  {
   "cell_type": "code",
   "execution_count": 604,
   "id": "0fe6f23f",
   "metadata": {},
   "outputs": [],
   "source": [
    "# define the sigmoid function\n",
    "def sigmoid(X, w, w0):\n",
    "    return(1 / (1 + np.exp(-(np.matmul(X, w) + w0))))"
   ]
  },
  {
   "cell_type": "code",
   "execution_count": 605,
   "id": "93e0e75b",
   "metadata": {},
   "outputs": [],
   "source": [
    "def safelog(x):\n",
    "    return(np.log(x + 1e-300))"
   ]
  },
  {
   "cell_type": "markdown",
   "id": "c8d9ef8f",
   "metadata": {},
   "source": [
    "## Gradient Functions"
   ]
  },
  {
   "cell_type": "markdown",
   "id": "86619722",
   "metadata": {},
   "source": [
    "\\begin{align*}\n",
    "\\dfrac{\\partial \\textrm{Error}}{\\partial \\boldsymbol{w}} &= -\\sum\\limits_{i = 1}^{N} (y_{i} - \\hat{y}_{i})\\boldsymbol{x}_{i} \\\\\n",
    "\\dfrac{\\partial \\textrm{Error}}{\\partial w_{0}} &= -\\sum\\limits_{i = 1}^{N} (y_{i} - \\hat{y}_{i}) \n",
    "\\end{align*}"
   ]
  },
  {
   "cell_type": "code",
   "execution_count": 606,
   "id": "45909af8",
   "metadata": {},
   "outputs": [],
   "source": [
    "# define the gradient functions\n",
    "def gradient_w(X, y_truth, y_predicted):\n",
    "    return(-np.matmul(X.T, y_truth - y_predicted))\n",
    "\n",
    "def gradient_w0(y_truth, y_predicted):\n",
    "    return(-np.sum(y_truth - y_predicted))"
   ]
  },
  {
   "cell_type": "markdown",
   "id": "533f837e",
   "metadata": {},
   "source": [
    "## Algorithm Parameters"
   ]
  },
  {
   "cell_type": "code",
   "execution_count": 625,
   "id": "00cbb837",
   "metadata": {},
   "outputs": [],
   "source": [
    "# set learning parameters\n",
    "eta = 0.001\n",
    "epsilon = 0.0001"
   ]
  },
  {
   "cell_type": "markdown",
   "id": "68738820",
   "metadata": {},
   "source": [
    "## Iterative Algorithm"
   ]
  },
  {
   "cell_type": "markdown",
   "id": "fdedc26a",
   "metadata": {},
   "source": [
    "$\\textrm{Error} = -\\sum\\limits_{i = 1}^{N} \\left[ y_{i}\\log(\\hat{y}_{i}) + (1 - y_{i}) \\log(1 - \\hat{y}_{i}) \\right]$"
   ]
  },
  {
   "cell_type": "code",
   "execution_count": 626,
   "id": "37cfe842",
   "metadata": {},
   "outputs": [],
   "source": [
    "np.random.seed(421)\n",
    "# initialize weights\n",
    "# Xavier initialization for weights\n",
    "limit = np.sqrt(1 / x_train.shape[1])\n",
    "w = np.random.uniform(-limit, limit, x_train.shape[1])\n",
    "w0 = np.random.uniform(-0.1, 0.1, 1)"
   ]
  },
  {
   "cell_type": "code",
   "execution_count": 627,
   "id": "487123b4",
   "metadata": {},
   "outputs": [
    {
     "name": "stdout",
     "output_type": "stream",
     "text": [
      "[-2.14441363  2.70759271 -2.66702725 -1.81662157 -0.65948945  0.51253836\n",
      " -0.46332988]\n",
      "[1.27029602]\n"
     ]
    }
   ],
   "source": [
    "# learn w and w0 using gradient descent\n",
    "iteration = 1\n",
    "objective_values = []\n",
    "while True:\n",
    "    y_predicted = sigmoid(x_train, w, w0) \n",
    "    objective_values = np.append(objective_values,\n",
    "                                 -np.sum(y_train * safelog(y_predicted) + \n",
    "                                         (1 - y_train) * safelog(1 - y_predicted)))\n",
    "    \n",
    "    if iteration == 1000:\n",
    "        break   \n",
    "\n",
    "    w_old = w\n",
    "    w0_old = w0\n",
    "\n",
    "    w = w - eta * gradient_w(x_train, y_train, y_predicted)\n",
    "    w0 = w0 - eta * gradient_w0(y_train, y_predicted)\n",
    "\n",
    "    if np.sqrt((w0 - w0_old)**2 + np.sum((w - w_old)**2)) < epsilon:\n",
    "        break\n",
    "\n",
    "    iteration = iteration + 1\n",
    "print(w)\n",
    "print(w0)"
   ]
  },
  {
   "cell_type": "code",
   "execution_count": 629,
   "id": "8cf8d355",
   "metadata": {},
   "outputs": [
    {
     "data": {
      "image/png": "[encoded data removed]",
      "text/plain": [
       "<Figure size 800x400 with 1 Axes>"
      ]
     },
     "metadata": {},
     "output_type": "display_data"
    }
   ],
   "source": [
    "# plot objective function during iterations\n",
    "plt.figure(figsize = (8, 4))\n",
    "plt.plot(range(1, iteration + 1), objective_values, \"k-\")\n",
    "plt.xlabel(\"Iteration\")\n",
    "plt.ylabel(\"Error\")\n",
    "plt.savefig(\"training_loss.pdf\")\n",
    "plt.show()\n"
   ]
  },
  {
   "cell_type": "code",
   "execution_count": 611,
   "id": "5fb0ae08",
   "metadata": {},
   "outputs": [
    {
     "name": "stdout",
     "output_type": "stream",
     "text": [
      "y_truth    0    1\n",
      "y_pred           \n",
      "0        473  101\n",
      "1         76  241\n"
     ]
    }
   ],
   "source": [
    "# calculate confusion matrix\n",
    "y_predicted = 1 * (y_predicted > 0.5)\n",
    "confusion_matrix = pd.crosstab(y_predicted.T, y_train.T, \n",
    "                               rownames = [\"y_pred\"], \n",
    "                               colnames = [\"y_truth\"])\n",
    "print(confusion_matrix)"
   ]
  },
  {
   "cell_type": "code",
   "execution_count": 612,
   "id": "988a3209",
   "metadata": {},
   "outputs": [
    {
     "name": "stdout",
     "output_type": "stream",
     "text": [
      "Accuracy: 0.8013\n"
     ]
    }
   ],
   "source": [
    "from sklearn.metrics import accuracy_score\n",
    "\n",
    "accuracy = accuracy_score(y_train, y_predicted)\n",
    "print(f\"Accuracy: {accuracy:.4f}\")\n"
   ]
  },
  {
   "cell_type": "markdown",
   "id": "b61cfb3a",
   "metadata": {},
   "source": [
    "## Test Data"
   ]
  },
  {
   "cell_type": "code",
   "execution_count": 546,
   "id": "1091c6d6",
   "metadata": {},
   "outputs": [],
   "source": [
    "def make_predictions(x_test, w, w0):\n",
    "    y_predicted = sigmoid(x_test, w, w0)\n",
    "    y_predicted = 1 * (y_predicted > 0.5)\n",
    "    return(y_predicted)"
   ]
  },
  {
   "cell_type": "code",
   "execution_count": 547,
   "id": "6a3c10ab",
   "metadata": {},
   "outputs": [
    {
     "name": "stdout",
     "output_type": "stream",
     "text": [
      "(418,)\n"
     ]
    }
   ],
   "source": [
    "y_test_hat = make_predictions(x_test, w, w0)"
   ]
  },
  {
   "cell_type": "code",
   "execution_count": 533,
   "id": "02c718d8",
   "metadata": {},
   "outputs": [
    {
     "name": "stdout",
     "output_type": "stream",
     "text": [
      "[0 0 0 0 1 0 1 0 1 0 0 0 1 0 1 1 0 0 1 1 0 0 1 1 1 0 1 0 0 0 0 0 0 0 1 0 1\n",
      " 1 0 0 0 0 0 1 1 0 0 0 1 0 0 0 1 1 0 0 0 0 0 1 0 0 0 1 1 1 1 0 1 1 1 0 1 1\n",
      " 1 1 0 1 0 1 0 0 0 0 0 0 1 1 1 0 1 0 1 0 1 0 1 0 1 0 1 0 0 0 1 0 0 0 0 0 0\n",
      " 1 1 1 1 0 0 1 1 1 1 0 1 0 0 1 0 1 0 0 0 0 0 0 0 0 0 0 1 0 0 1 0 0 0 0 0 0\n",
      " 0 0 1 0 0 0 0 0 1 1 0 1 1 0 1 0 0 1 0 0 1 1 0 0 0 0 0 1 1 0 1 1 0 0 1 0 1\n",
      " 0 1 0 0 0 0 0 0 0 0 0 1 1 0 1 1 0 0 1 0 1 1 0 1 0 0 0 0 1 0 0 1 0 1 0 1 0\n",
      " 1 0 1 1 0 1 0 0 0 1 0 0 0 0 0 0 1 1 1 1 0 0 0 0 1 0 1 1 1 0 1 0 0 0 0 0 1\n",
      " 0 0 0 1 1 0 0 0 0 1 0 0 0 1 1 0 1 0 0 0 0 1 0 1 1 1 0 0 0 0 0 0 1 0 0 0 0\n",
      " 1 0 0 0 0 0 0 0 1 1 0 0 0 0 0 0 0 1 1 1 0 0 0 0 0 0 0 0 1 0 1 0 0 0 1 1 0\n",
      " 1 0 0 0 0 0 0 0 0 0 1 0 1 0 1 0 1 1 0 0 0 1 0 1 0 0 1 0 1 1 0 1 0 0 1 1 0\n",
      " 0 1 0 0 1 1 1 0 0 0 0 0 1 1 0 1 0 0 0 0 1 1 0 0 0 1 0 1 0 0 1 0 1 1 0 0 0\n",
      " 0 1 1 1 1 1 0 1 0 0 0]\n"
     ]
    }
   ],
   "source": [
    "print(y_test_hat)"
   ]
  },
  {
   "cell_type": "code",
   "execution_count": 548,
   "id": "0250713c",
   "metadata": {},
   "outputs": [
    {
     "name": "stdout",
     "output_type": "stream",
     "text": [
      "Accuracy: 0.9402\n"
     ]
    }
   ],
   "source": [
    "from sklearn.metrics import accuracy_score\n",
    "\n",
    "accuracy = accuracy_score(y_test, y_test_hat)\n",
    "print(f\"Accuracy: {accuracy:.4f}\")\n"
   ]
  },
  {
   "cell_type": "code",
   "execution_count": 535,
   "id": "ab1415fc",
   "metadata": {},
   "outputs": [
    {
     "name": "stdout",
     "output_type": "stream",
     "text": [
      "y_truth    0    1\n",
      "y_pred           \n",
      "0        252   11\n",
      "1         14  141\n"
     ]
    }
   ],
   "source": [
    "# calculate confusion matrix\n",
    "y_predicted = 1 * (y_test_hat > 0.5)\n",
    "confusion_matrix = pd.crosstab(y_test_hat.T, y_test.T, \n",
    "                               rownames = [\"y_pred\"], \n",
    "                               colnames = [\"y_truth\"])\n",
    "print(confusion_matrix)"
   ]
  },
  {
   "cell_type": "code",
   "execution_count": 536,
   "id": "1c4f79ed",
   "metadata": {},
   "outputs": [
    {
     "data": {
      "text/plain": [
       "(418,)"
      ]
     },
     "execution_count": 536,
     "metadata": {},
     "output_type": "execute_result"
    }
   ],
   "source": [
    "labels_df['PassengerId']\n",
    "y_test_hat.shape"
   ]
  },
  {
   "cell_type": "code",
   "execution_count": 537,
   "id": "e1c7fccf",
   "metadata": {},
   "outputs": [],
   "source": [
    "# Create submission file\n",
    "submission = pd.DataFrame({\n",
    "    'PassengerId': labels_df['PassengerId'].values,\n",
    "    'Survived': y_test_hat\n",
    "})\n",
    "\n",
    "submission.to_csv('submission.csv', index=False)"
   ]
  },
  {
   "cell_type": "code",
   "execution_count": 630,
   "id": "243d8f15",
   "metadata": {},
   "outputs": [
    {
     "name": "stdout",
     "output_type": "stream",
     "text": [
      "Initialized empty Git repository in C:/Users/babll/OneDrive - Koc Universitesi/Masaüstü/Uni/Internship/OBSS/.git/\n"
     ]
    }
   ],
   "source": [
    "!git init"
   ]
  },
  {
   "cell_type": "code",
   "execution_count": 633,
   "id": "2d2cad06",
   "metadata": {},
   "outputs": [
    {
     "name": "stderr",
     "output_type": "stream",
     "text": [
      "'cwd' is not recognized as an internal or external command,\n",
      "operable program or batch file.\n"
     ]
    }
   ],
   "source": [
    "git add .\n",
    "git commit -m \"Initial commit\""
   ]
  },
  {
   "cell_type": "code",
   "execution_count": null,
   "id": "18018fa1",
   "metadata": {},
   "outputs": [],
   "source": []
  }
 ],
 "metadata": {
  "kernelspec": {
   "display_name": "Python 3 (ipykernel)",
   "language": "python",
   "name": "python3"
  },
  "language_info": {
   "codemirror_mode": {
    "name": "ipython",
    "version": 3
   },
   "file_extension": ".py",
   "mimetype": "text/x-python",
   "name": "python",
   "nbconvert_exporter": "python",
   "pygments_lexer": "ipython3",
   "version": "3.12.10"
  }
 },
 "nbformat": 4,
 "nbformat_minor": 5
}
